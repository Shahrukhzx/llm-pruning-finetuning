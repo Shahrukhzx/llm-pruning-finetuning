{
 "cells": [
  {
   "cell_type": "markdown",
   "metadata": {},
   "source": [
    "# Libraries"
   ]
  },
  {
   "cell_type": "code",
   "execution_count": 2,
   "metadata": {
    "execution": {
     "iopub.execute_input": "2025-03-15T16:21:16.171739Z",
     "iopub.status.busy": "2025-03-15T16:21:16.171407Z",
     "iopub.status.idle": "2025-03-15T16:21:42.117426Z",
     "shell.execute_reply": "2025-03-15T16:21:42.116774Z",
     "shell.execute_reply.started": "2025-03-15T16:21:16.171706Z"
    },
    "trusted": true
   },
   "outputs": [],
   "source": [
    "# importing the required libraries\n",
    "import torch\n",
    "import torch.nn as nn\n",
    "from transformers import AutoModelForCausalLM, AutoTokenizer, default_data_collator, Trainer, TrainingArguments\n",
    "from collections import OrderedDict\n",
    "from typing import List, Optional\n",
    "import numpy as np\n",
    "from tqdm.notebook import tqdm\n",
    "from datasets import load_dataset\n",
    "import torch\n",
    "from torch.utils.data import DataLoader\n",
    "from lm_eval import evaluator, tasks"
   ]
  },
  {
   "cell_type": "code",
   "execution_count": 3,
   "metadata": {
    "execution": {
     "iopub.execute_input": "2025-03-15T16:21:42.118379Z",
     "iopub.status.busy": "2025-03-15T16:21:42.118143Z",
     "iopub.status.idle": "2025-03-15T16:21:42.141692Z",
     "shell.execute_reply": "2025-03-15T16:21:42.140581Z",
     "shell.execute_reply.started": "2025-03-15T16:21:42.118360Z"
    },
    "trusted": true
   },
   "outputs": [
    {
     "data": {
      "application/vnd.jupyter.widget-view+json": {
       "model_id": "ced5e7225dc04620bd0cda79252f123d",
       "version_major": 2,
       "version_minor": 0
      },
      "text/plain": [
       "VBox(children=(HTML(value='<center> <img\\nsrc=https://huggingface.co/front/assets/huggingface_logo-noborder.sv…"
      ]
     },
     "metadata": {},
     "output_type": "display_data"
    }
   ],
   "source": [
    "from huggingface_hub import notebook_login\n",
    "notebook_login()"
   ]
  },
  {
   "cell_type": "markdown",
   "metadata": {},
   "source": [
    "# hello"
   ]
  },
  {
   "cell_type": "code",
   "execution_count": null,
   "metadata": {},
   "outputs": [],
   "source": []
  },
  {
   "cell_type": "code",
   "execution_count": 4,
   "metadata": {
    "execution": {
     "iopub.execute_input": "2025-03-15T16:21:50.821751Z",
     "iopub.status.busy": "2025-03-15T16:21:50.821396Z",
     "iopub.status.idle": "2025-03-15T16:21:50.826448Z",
     "shell.execute_reply": "2025-03-15T16:21:50.825666Z",
     "shell.execute_reply.started": "2025-03-15T16:21:50.821728Z"
    },
    "trusted": true
   },
   "outputs": [],
   "source": [
    "def layer_removal(\n",
    "    model: nn.Module,\n",
    "    layers_to_remove: OrderedDict\n",
    "):\n",
    "    \"\"\"\n",
    "    Generic removal implementation\n",
    "    \"\"\"\n",
    "\n",
    "    for layer_name, layer_idx in layers_to_remove.items():\n",
    "        modules = layer_name.split(\".\")\n",
    "        mod = model\n",
    "        for m in modules[:-1]:\n",
    "            mod = getattr(mod, m)\n",
    "        \n",
    "        if layer_idx is None:\n",
    "            delattr(mod, modules[-1])\n",
    "        else:\n",
    "            delattr(mod, modules[-1])[layer_idx]"
   ]
  },
  {
   "cell_type": "code",
   "execution_count": 5,
   "metadata": {
    "execution": {
     "iopub.execute_input": "2025-03-15T16:21:52.463609Z",
     "iopub.status.busy": "2025-03-15T16:21:52.463278Z",
     "iopub.status.idle": "2025-03-15T16:21:52.468915Z",
     "shell.execute_reply": "2025-03-15T16:21:52.467968Z",
     "shell.execute_reply.started": "2025-03-15T16:21:52.463582Z"
    },
    "trusted": true
   },
   "outputs": [],
   "source": [
    "def block_influence(\n",
    "    input_hidden_state: torch.Tensor,\n",
    "    output_hidden_state: torch.Tensor,\n",
    "    angular=False,\n",
    "):\n",
    "    \"\"\"\n",
    "    input_hidden_state: B, S, D\n",
    "    output_hidden_state: B, S, D\n",
    "    \"\"\"\n",
    "    _, _, d = input_hidden_state.shape\n",
    "    input_hidden_state = input_hidden_state.reshape(-1, d)\n",
    "    output_hidden_state = output_hidden_state.reshape(-1, d)\n",
    "\n",
    "    norm_input = input_hidden_state.norm(dim=-1, keepdim=True)\n",
    "    norm_output = output_hidden_state.norm(dim=-1, keepdim=True)\n",
    "\n",
    "    sim = (input_hidden_state @ output_hidden_state.T) / (norm_input * norm_output)\n",
    "    sim = sim.diagonal().nan_to_num(nan=0.5)\n",
    "\n",
    "    if angular:\n",
    "        return (torch.arccos(sim) / torch.pi)\n",
    "\n",
    "    return 1 - sim"
   ]
  },
  {
   "cell_type": "code",
   "execution_count": 6,
   "metadata": {
    "execution": {
     "iopub.execute_input": "2025-03-15T16:21:54.993624Z",
     "iopub.status.busy": "2025-03-15T16:21:54.993249Z",
     "iopub.status.idle": "2025-03-15T16:21:55.007384Z",
     "shell.execute_reply": "2025-03-15T16:21:55.006395Z",
     "shell.execute_reply.started": "2025-03-15T16:21:54.993597Z"
    },
    "trusted": true
   },
   "outputs": [],
   "source": [
    "class ShortHFModel():\n",
    "\n",
    "    def __init__(self, model_name: str, layers_path: str, n_prune_layers: Optional[int] = None):\n",
    "        \"\"\"\n",
    "        HuggingFace Model Wrapper\n",
    "\n",
    "        Args:\n",
    "            model_name (str): HuggingFace model name\n",
    "            layers_path (str): String in dot notation demonstrating how to access layers of the model. Ex: \"model.layers\"\n",
    "            (Optional) n_prune_layers (int): Number of layers to prune. Defaults to None.\n",
    "        \"\"\"\n",
    "        self.tokenizer = AutoTokenizer.from_pretrained(model_name)\n",
    "        self.tokenizer.pad_token = self.tokenizer.eos_token\n",
    "        self.model = AutoModelForCausalLM.from_pretrained(model_name, torch_dtype=torch.float16)\n",
    "        # self.model.params = self.model.to_fp16(self.model.params)\n",
    "        self.model.to(\"cuda\")\n",
    "\n",
    "        modules = layers_path.split(\".\")\n",
    "        mod = self.model\n",
    "        for m in modules:\n",
    "            mod = getattr(mod, m)\n",
    "        self.layers = mod\n",
    "\n",
    "        self.n_prune_layers = n_prune_layers\n",
    "        self.importances = [0 for _ in self.layers]  # layer-wise importance scores\n",
    "\n",
    "    def remove_layers(\n",
    "        self,\n",
    "        layers_to_remove: Optional[List[int]] = [],\n",
    "        angular: Optional[bool] = False\n",
    "    ):\n",
    "        if angular:\n",
    "            assert self.importances, \"Need to compute importances with eval_importance()\"\n",
    "            assert self.n_prune_layers, \"Need number of layers to prune, set `n_prune_layers`\"\n",
    "            start_layer = np.argsort(np.array(self.importances[:-self.n_prune_layers+1]))[0]\n",
    "            layers_to_remove = list(range(start_layer, start_layer + self.n_prune_layers))\n",
    "        elif not layers_to_remove and self.n_prune_layers:\n",
    "            assert self.importances, \"Need to compute importances with eval_importance()\"\n",
    "            layers_to_remove = np.argsort(np.array(self.importances))[:self.n_prune_layers].tolist()\n",
    "\n",
    "        # remove layers in reverse to avoid indexing errors\n",
    "        for layer_idx in sorted(layers_to_remove, reverse=True):\n",
    "            try:\n",
    "                del self.layers[layer_idx]\n",
    "            except IndexError:\n",
    "                print(f\"layer {layer_idx} does not exist, function may have already been called\")\n",
    "                return []\n",
    "        \n",
    "        return layers_to_remove\n",
    "    \n",
    "    def compute_bi(self, hiddens: List[torch.Tensor], angular: bool):\n",
    "        n = 1\n",
    "        if angular:\n",
    "            assert self.n_prune_layers is not None, \"Set number of layers to prune to use angular importance\"\n",
    "            n = self.n_prune_layers\n",
    "\n",
    "        for i in range(len(hiddens) - n):\n",
    "            in_hidden = hiddens[i]\n",
    "            out_hidden = hiddens[i+n]\n",
    "            if angular:\n",
    "                # use only last token for angular distance as described in section 3.2\n",
    "                # https://arxiv.org/pdf/2403.17887.pdf\n",
    "                in_hidden = in_hidden[:,-1:]\n",
    "                out_hidden = out_hidden[:,-1:]\n",
    "            \n",
    "            self.importances[i] += block_influence(\n",
    "                in_hidden,\n",
    "                out_hidden,\n",
    "                angular=angular\n",
    "            ).sum().cpu().item()\n",
    "\n",
    "    @torch.inference_mode()\n",
    "    def eval_importance(\n",
    "        self,\n",
    "        prompts: List[str],\n",
    "        max_seq_len: int,\n",
    "        stride: int = 256,\n",
    "        max_gen_len: int = 0,\n",
    "        temperature: float = 0.6,\n",
    "        top_p: float = 0.9,\n",
    "        angular: Optional[bool] = False\n",
    "    ):\n",
    "        \"\"\"\n",
    "        Computes layer-wise importances over input texts.\n",
    "\n",
    "        NOTE: ShortGPT paper performs no generation during importance computation, which suggests a `max_gen_len`= 0.\n",
    "\n",
    "        Args:\n",
    "            prompts (List[str]): List of prompts.\n",
    "            max_seq_len (int): Maximum sequence length for model input, the sliding window size.\n",
    "            (Optional) stride (int): Number of tokens to skip/shift between each window inference.\n",
    "            (Optional) max_gen_len (int): Maximum length of the generated text sequence.\n",
    "            (Optional) temperature (float): Temperature value for controlling randomness in sampling. Defaults to 0.6.\n",
    "            (Optional) top_p (float): Top-p probability threshold for nucleus sampling. Defaults to 0.9.\n",
    "            (Optional) angular (bool): Whether to ues angular distance. Defaults to False.\n",
    "\n",
    "        Returns:\n",
    "            None\n",
    "        \"\"\"\n",
    "        prompt_tokens = self.tokenizer(\n",
    "            prompts,\n",
    "            padding=True,\n",
    "            return_attention_mask=True,\n",
    "            return_tensors='pt'\n",
    "        )\n",
    "        input_ids = prompt_tokens.input_ids\n",
    "        attn_mask = prompt_tokens.attention_mask\n",
    "\n",
    "        max_prompt_len = max(len(t) for t in input_ids)\n",
    "\n",
    "        # authors use a sliding window of size 1024 with a shift of 256\n",
    "        for start in range(0, max_prompt_len, stride):\n",
    "            seq_ids = (attn_mask.sum(dim=-1) > start).nonzero().squeeze()\n",
    "            seq_ids = seq_ids.unsqueeze(0) if seq_ids.dim() == 0 else seq_ids  # ensure 2d\n",
    "            inputs = input_ids[seq_ids, start:start+max_seq_len]\n",
    "            attn = attn_mask[seq_ids, start:start+max_seq_len]\n",
    "\n",
    "            if max_gen_len == 0:\n",
    "                outputs = self.model(\n",
    "                    input_ids=inputs.to(\"cuda\"),\n",
    "                    attention_mask=attn.to(\"cuda\"),\n",
    "                    output_hidden_states=True,\n",
    "                )\n",
    "            else:\n",
    "                outputs = self.model.generate(\n",
    "                    input_ids=inputs.to(\"cuda\"),\n",
    "                    attention_mask=attn.to(\"cuda\"),\n",
    "                    max_new_tokens=max_gen_len, \n",
    "                    do_sample=True,\n",
    "                    temperature=temperature,\n",
    "                    top_p=top_p,\n",
    "                    output_hidden_states=True,\n",
    "                    return_dict_in_generate=True,\n",
    "                )\n",
    "            \n",
    "            self.compute_bi(outputs.hidden_states, angular=angular)\n",
    "\n",
    "        return"
   ]
  },
  {
   "cell_type": "code",
   "execution_count": 7,
   "metadata": {
    "execution": {
     "iopub.execute_input": "2025-03-15T16:22:02.079079Z",
     "iopub.status.busy": "2025-03-15T16:22:02.078754Z",
     "iopub.status.idle": "2025-03-15T16:22:11.366546Z",
     "shell.execute_reply": "2025-03-15T16:22:11.365859Z",
     "shell.execute_reply.started": "2025-03-15T16:22:02.079053Z"
    },
    "trusted": true
   },
   "outputs": [
    {
     "data": {
      "application/vnd.jupyter.widget-view+json": {
       "model_id": "6c87537f380c48caac63567da847e565",
       "version_major": 2,
       "version_minor": 0
      },
      "text/plain": [
       "README.md:   0%|          | 0.00/8.11k [00:00<?, ?B/s]"
      ]
     },
     "metadata": {},
     "output_type": "display_data"
    },
    {
     "data": {
      "application/vnd.jupyter.widget-view+json": {
       "model_id": "733a45b58a884fc2b44654cd4426a2e6",
       "version_major": 2,
       "version_minor": 0
      },
      "text/plain": [
       "pg19.py:   0%|          | 0.00/6.56k [00:00<?, ?B/s]"
      ]
     },
     "metadata": {},
     "output_type": "display_data"
    },
    {
     "name": "stdout",
     "output_type": "stream",
     "text": [
      "The repository for pg19 contains custom code which must be executed to correctly load the dataset. You can inspect the repository content at https://hf.co/datasets/pg19.\n",
      "You can avoid this prompt in future by passing the argument `trust_remote_code=True`.\n",
      "\n",
      "Do you wish to run the custom code? [y/N]  y\n"
     ]
    }
   ],
   "source": [
    "data = load_dataset(\"pg19\",split=\"validation\",streaming=True).take(10) # loading the dataset.\n",
    "dataloader = DataLoader(\n",
    "    data,\n",
    "    batch_size=1,\n",
    "    #shuffle=True,\n",
    ")"
   ]
  },
  {
   "cell_type": "code",
   "execution_count": 8,
   "metadata": {
    "execution": {
     "iopub.execute_input": "2025-03-15T16:22:15.404453Z",
     "iopub.status.busy": "2025-03-15T16:22:15.404088Z",
     "iopub.status.idle": "2025-03-15T16:22:43.021317Z",
     "shell.execute_reply": "2025-03-15T16:22:43.020341Z",
     "shell.execute_reply.started": "2025-03-15T16:22:15.404405Z"
    },
    "trusted": true
   },
   "outputs": [
    {
     "data": {
      "application/vnd.jupyter.widget-view+json": {
       "model_id": "d1af034f54234bd8903939e623145816",
       "version_major": 2,
       "version_minor": 0
      },
      "text/plain": [
       "tokenizer_config.json:   0%|          | 0.00/50.5k [00:00<?, ?B/s]"
      ]
     },
     "metadata": {},
     "output_type": "display_data"
    },
    {
     "data": {
      "application/vnd.jupyter.widget-view+json": {
       "model_id": "ed61e9a7c20c41e2bacddd85858c2101",
       "version_major": 2,
       "version_minor": 0
      },
      "text/plain": [
       "tokenizer.json:   0%|          | 0.00/9.09M [00:00<?, ?B/s]"
      ]
     },
     "metadata": {},
     "output_type": "display_data"
    },
    {
     "data": {
      "application/vnd.jupyter.widget-view+json": {
       "model_id": "df0915d656d140a6b40a3a8e58bdd822",
       "version_major": 2,
       "version_minor": 0
      },
      "text/plain": [
       "special_tokens_map.json:   0%|          | 0.00/301 [00:00<?, ?B/s]"
      ]
     },
     "metadata": {},
     "output_type": "display_data"
    },
    {
     "data": {
      "application/vnd.jupyter.widget-view+json": {
       "model_id": "caa3e327e5ca41c49eb21fe4dede2765",
       "version_major": 2,
       "version_minor": 0
      },
      "text/plain": [
       "config.json:   0%|          | 0.00/844 [00:00<?, ?B/s]"
      ]
     },
     "metadata": {},
     "output_type": "display_data"
    },
    {
     "data": {
      "application/vnd.jupyter.widget-view+json": {
       "model_id": "9aa9cb65e63a45dfbc83958a93bdc136",
       "version_major": 2,
       "version_minor": 0
      },
      "text/plain": [
       "model.safetensors.index.json:   0%|          | 0.00/20.9k [00:00<?, ?B/s]"
      ]
     },
     "metadata": {},
     "output_type": "display_data"
    },
    {
     "data": {
      "application/vnd.jupyter.widget-view+json": {
       "model_id": "6cc1262fa583426f9a66cf0c9c0ea61d",
       "version_major": 2,
       "version_minor": 0
      },
      "text/plain": [
       "Downloading shards:   0%|          | 0/2 [00:00<?, ?it/s]"
      ]
     },
     "metadata": {},
     "output_type": "display_data"
    },
    {
     "data": {
      "application/vnd.jupyter.widget-view+json": {
       "model_id": "4540ccdeb8604db19bee3277eaa60f71",
       "version_major": 2,
       "version_minor": 0
      },
      "text/plain": [
       "model-00001-of-00002.safetensors:   0%|          | 0.00/4.97G [00:00<?, ?B/s]"
      ]
     },
     "metadata": {},
     "output_type": "display_data"
    },
    {
     "data": {
      "application/vnd.jupyter.widget-view+json": {
       "model_id": "e74813f97883444a809d64b8237973a3",
       "version_major": 2,
       "version_minor": 0
      },
      "text/plain": [
       "model-00002-of-00002.safetensors:   0%|          | 0.00/1.46G [00:00<?, ?B/s]"
      ]
     },
     "metadata": {},
     "output_type": "display_data"
    },
    {
     "data": {
      "application/vnd.jupyter.widget-view+json": {
       "model_id": "f87b0dbb281542b08a9ab8b715c8e889",
       "version_major": 2,
       "version_minor": 0
      },
      "text/plain": [
       "Loading checkpoint shards:   0%|          | 0/2 [00:00<?, ?it/s]"
      ]
     },
     "metadata": {},
     "output_type": "display_data"
    },
    {
     "data": {
      "application/vnd.jupyter.widget-view+json": {
       "model_id": "bcd6fd476daf40498e621dc5996052ca",
       "version_major": 2,
       "version_minor": 0
      },
      "text/plain": [
       "generation_config.json:   0%|          | 0.00/185 [00:00<?, ?B/s]"
      ]
     },
     "metadata": {},
     "output_type": "display_data"
    }
   ],
   "source": [
    "MAX_SEQ_LEN = 1024\n",
    "short_model = ShortHFModel(\n",
    "    model_name=\"meta-llama/Llama-3.2-3B\",\n",
    "    layers_path=\"model.layers\",\n",
    "    n_prune_layers=12,\n",
    ")"
   ]
  },
  {
   "cell_type": "code",
   "execution_count": 9,
   "metadata": {
    "execution": {
     "iopub.execute_input": "2025-03-15T16:22:43.022759Z",
     "iopub.status.busy": "2025-03-15T16:22:43.022498Z",
     "iopub.status.idle": "2025-03-15T16:22:43.029321Z",
     "shell.execute_reply": "2025-03-15T16:22:43.028553Z",
     "shell.execute_reply.started": "2025-03-15T16:22:43.022738Z"
    },
    "trusted": true
   },
   "outputs": [
    {
     "data": {
      "text/plain": [
       "LlamaForCausalLM(\n",
       "  (model): LlamaModel(\n",
       "    (embed_tokens): Embedding(128256, 3072)\n",
       "    (layers): ModuleList(\n",
       "      (0-27): 28 x LlamaDecoderLayer(\n",
       "        (self_attn): LlamaSdpaAttention(\n",
       "          (q_proj): Linear(in_features=3072, out_features=3072, bias=False)\n",
       "          (k_proj): Linear(in_features=3072, out_features=1024, bias=False)\n",
       "          (v_proj): Linear(in_features=3072, out_features=1024, bias=False)\n",
       "          (o_proj): Linear(in_features=3072, out_features=3072, bias=False)\n",
       "          (rotary_emb): LlamaRotaryEmbedding()\n",
       "        )\n",
       "        (mlp): LlamaMLP(\n",
       "          (gate_proj): Linear(in_features=3072, out_features=8192, bias=False)\n",
       "          (up_proj): Linear(in_features=3072, out_features=8192, bias=False)\n",
       "          (down_proj): Linear(in_features=8192, out_features=3072, bias=False)\n",
       "          (act_fn): SiLU()\n",
       "        )\n",
       "        (input_layernorm): LlamaRMSNorm((3072,), eps=1e-05)\n",
       "        (post_attention_layernorm): LlamaRMSNorm((3072,), eps=1e-05)\n",
       "      )\n",
       "    )\n",
       "    (norm): LlamaRMSNorm((3072,), eps=1e-05)\n",
       "    (rotary_emb): LlamaRotaryEmbedding()\n",
       "  )\n",
       "  (lm_head): Linear(in_features=3072, out_features=128256, bias=False)\n",
       ")"
      ]
     },
     "execution_count": 9,
     "metadata": {},
     "output_type": "execute_result"
    }
   ],
   "source": [
    "short_model.model\n"
   ]
  },
  {
   "cell_type": "code",
   "execution_count": 10,
   "metadata": {
    "execution": {
     "iopub.execute_input": "2025-03-15T16:22:47.752645Z",
     "iopub.status.busy": "2025-03-15T16:22:47.752304Z",
     "iopub.status.idle": "2025-03-15T16:22:52.137307Z",
     "shell.execute_reply": "2025-03-15T16:22:52.136463Z",
     "shell.execute_reply.started": "2025-03-15T16:22:47.752619Z"
    },
    "trusted": true
   },
   "outputs": [
    {
     "data": {
      "text/plain": [
       "LlamaConfig {\n",
       "  \"_attn_implementation_autoset\": true,\n",
       "  \"_name_or_path\": \"meta-llama/Llama-3.2-3B\",\n",
       "  \"architectures\": [\n",
       "    \"LlamaForCausalLM\"\n",
       "  ],\n",
       "  \"attention_bias\": false,\n",
       "  \"attention_dropout\": 0.0,\n",
       "  \"bos_token_id\": 128000,\n",
       "  \"eos_token_id\": 128001,\n",
       "  \"head_dim\": 128,\n",
       "  \"hidden_act\": \"silu\",\n",
       "  \"hidden_size\": 3072,\n",
       "  \"initializer_range\": 0.02,\n",
       "  \"intermediate_size\": 8192,\n",
       "  \"max_position_embeddings\": 131072,\n",
       "  \"mlp_bias\": false,\n",
       "  \"model_type\": \"llama\",\n",
       "  \"num_attention_heads\": 24,\n",
       "  \"num_hidden_layers\": 28,\n",
       "  \"num_key_value_heads\": 8,\n",
       "  \"pretraining_tp\": 1,\n",
       "  \"rms_norm_eps\": 1e-05,\n",
       "  \"rope_scaling\": {\n",
       "    \"factor\": 32.0,\n",
       "    \"high_freq_factor\": 4.0,\n",
       "    \"low_freq_factor\": 1.0,\n",
       "    \"original_max_position_embeddings\": 8192,\n",
       "    \"rope_type\": \"llama3\"\n",
       "  },\n",
       "  \"rope_theta\": 500000.0,\n",
       "  \"tie_word_embeddings\": true,\n",
       "  \"torch_dtype\": \"float16\",\n",
       "  \"transformers_version\": \"4.47.0\",\n",
       "  \"use_cache\": true,\n",
       "  \"vocab_size\": 128256\n",
       "}"
      ]
     },
     "execution_count": 10,
     "metadata": {},
     "output_type": "execute_result"
    }
   ],
   "source": [
    "short_model.model.config"
   ]
  },
  {
   "cell_type": "code",
   "execution_count": 11,
   "metadata": {
    "execution": {
     "iopub.execute_input": "2025-03-15T16:22:52.138949Z",
     "iopub.status.busy": "2025-03-15T16:22:52.138443Z",
     "iopub.status.idle": "2025-03-15T16:22:54.514639Z",
     "shell.execute_reply": "2025-03-15T16:22:54.513762Z",
     "shell.execute_reply.started": "2025-03-15T16:22:52.138927Z"
    },
    "trusted": true
   },
   "outputs": [
    {
     "name": "stderr",
     "output_type": "stream",
     "text": [
      "The attention mask and the pad token id were not set. As a consequence, you may observe unexpected behavior. Please pass your input's `attention_mask` to obtain reliable results.\n",
      "Setting `pad_token_id` to `eos_token_id`:128001 for open-end generation.\n",
      "The attention mask is not set and cannot be inferred from input because pad token is same as eos token. As a consequence, you may observe unexpected behavior. Please pass your input's `attention_mask` to obtain reliable results.\n"
     ]
    },
    {
     "data": {
      "text/plain": [
       "['Dhaka is the capital city of Bangladesh and the largest city of the country. Dhaka is the financial, political and cultural hub of Bangladesh. It is also the main center for education, commerce, and industry. Dhaka is the most populous city of Bangladesh and the 8th']"
      ]
     },
     "execution_count": 11,
     "metadata": {},
     "output_type": "execute_result"
    }
   ],
   "source": [
    "# sample generation\n",
    "gen = short_model.model.generate(\n",
    "    short_model.tokenizer([\"Dhaka is the capital city of\"], return_tensors='pt').input_ids.to(\"cuda\"),\n",
    "    max_new_tokens=50\n",
    ")\n",
    "short_model.tokenizer.batch_decode(gen, skip_special_tokens=True)"
   ]
  },
  {
   "cell_type": "code",
   "execution_count": 12,
   "metadata": {
    "execution": {
     "iopub.execute_input": "2025-03-15T16:22:54.516774Z",
     "iopub.status.busy": "2025-03-15T16:22:54.516510Z",
     "iopub.status.idle": "2025-03-15T17:47:39.768865Z",
     "shell.execute_reply": "2025-03-15T17:47:39.767858Z",
     "shell.execute_reply.started": "2025-03-15T16:22:54.516755Z"
    },
    "trusted": true
   },
   "outputs": [
    {
     "data": {
      "application/vnd.jupyter.widget-view+json": {
       "model_id": "6a4bb95d1ed048f8b58e72d6d81d547d",
       "version_major": 2,
       "version_minor": 0
      },
      "text/plain": [
       "0it [00:00, ?it/s]"
      ]
     },
     "metadata": {},
     "output_type": "display_data"
    },
    {
     "name": "stderr",
     "output_type": "stream",
     "text": [
      "Token indices sequence length is longer than the specified maximum sequence length for this model (429039 > 131072). Running this sequence through the model will result in indexing errors\n"
     ]
    }
   ],
   "source": [
    "for i, batch in enumerate(tqdm(dataloader)):\n",
    "    prompts = batch['text']\n",
    "\n",
    "    short_model.eval_importance(\n",
    "        prompts=prompts,\n",
    "        max_seq_len=MAX_SEQ_LEN,\n",
    "        stride=256,\n",
    "        max_gen_len=0\n",
    "    )"
   ]
  },
  {
   "cell_type": "code",
   "execution_count": 13,
   "metadata": {
    "execution": {
     "iopub.execute_input": "2025-03-15T17:47:39.770517Z",
     "iopub.status.busy": "2025-03-15T17:47:39.770256Z",
     "iopub.status.idle": "2025-03-15T17:47:39.775615Z",
     "shell.execute_reply": "2025-03-15T17:47:39.774776Z",
     "shell.execute_reply.started": "2025-03-15T17:47:39.770497Z"
    },
    "trusted": true
   },
   "outputs": [
    {
     "data": {
      "text/plain": [
       "[3099771.578125,\n",
       " 1329948.076171875,\n",
       " 1063329.34765625,\n",
       " 1067733.48046875,\n",
       " 1131896.111328125,\n",
       " 1093777.150390625,\n",
       " 1044766.2802734375,\n",
       " 1005813.33203125,\n",
       " 852906.37109375,\n",
       " 816430.4790039062,\n",
       " 798295.890625,\n",
       " 895215.63671875,\n",
       " 773229.3061523438,\n",
       " 831006.26171875,\n",
       " 796643.4296875,\n",
       " 654673.4311523438,\n",
       " 502772.23876953125,\n",
       " 425554.48291015625,\n",
       " 399103.13525390625,\n",
       " 414931.64697265625,\n",
       " 307589.484375,\n",
       " 274580.3447265625,\n",
       " 252607.755859375,\n",
       " 269757.646484375,\n",
       " 289469.71728515625,\n",
       " 342819.599609375,\n",
       " 448260.12158203125,\n",
       " 1546466.08984375]"
      ]
     },
     "execution_count": 13,
     "metadata": {},
     "output_type": "execute_result"
    }
   ],
   "source": [
    "short_model.importances"
   ]
  },
  {
   "cell_type": "code",
   "execution_count": 14,
   "metadata": {
    "execution": {
     "iopub.execute_input": "2025-03-15T17:47:39.776636Z",
     "iopub.status.busy": "2025-03-15T17:47:39.776381Z",
     "iopub.status.idle": "2025-03-15T17:47:39.789366Z",
     "shell.execute_reply": "2025-03-15T17:47:39.788504Z",
     "shell.execute_reply.started": "2025-03-15T17:47:39.776604Z"
    },
    "trusted": true
   },
   "outputs": [
    {
     "name": "stdout",
     "output_type": "stream",
     "text": [
      "Model size before pruning: 5.984 GB\n"
     ]
    }
   ],
   "source": [
    "param_size = 0\n",
    "for param in short_model.model.parameters():\n",
    "    param_size += param.nelement() * param.element_size()\n",
    "\n",
    "buffer_size = 0\n",
    "for buffer in short_model.model.buffers():\n",
    "    buffer_size += buffer.nelement() * buffer.element_size()\n",
    "\n",
    "# Total size in bytes to GB\n",
    "size_all_gb = (param_size + buffer_size) / 1024**3\n",
    "print('Model size before pruning: {:.3f} GB'.format(size_all_gb))"
   ]
  },
  {
   "cell_type": "code",
   "execution_count": 15,
   "metadata": {
    "execution": {
     "iopub.execute_input": "2025-03-15T17:47:39.790399Z",
     "iopub.status.busy": "2025-03-15T17:47:39.790183Z",
     "iopub.status.idle": "2025-03-15T17:47:39.803978Z",
     "shell.execute_reply": "2025-03-15T17:47:39.803185Z",
     "shell.execute_reply.started": "2025-03-15T17:47:39.790381Z"
    },
    "trusted": true
   },
   "outputs": [
    {
     "data": {
      "text/plain": [
       "[22, 23, 21, 24, 20, 25, 18, 19, 17, 26, 16, 15]"
      ]
     },
     "execution_count": 15,
     "metadata": {},
     "output_type": "execute_result"
    }
   ],
   "source": [
    "short_model.remove_layers()"
   ]
  },
  {
   "cell_type": "code",
   "execution_count": 16,
   "metadata": {
    "execution": {
     "iopub.execute_input": "2025-03-15T17:47:39.805668Z",
     "iopub.status.busy": "2025-03-15T17:47:39.805403Z",
     "iopub.status.idle": "2025-03-15T17:47:39.816086Z",
     "shell.execute_reply": "2025-03-15T17:47:39.815381Z",
     "shell.execute_reply.started": "2025-03-15T17:47:39.805649Z"
    },
    "trusted": true
   },
   "outputs": [
    {
     "data": {
      "text/plain": [
       "ModuleList(\n",
       "  (0-15): 16 x LlamaDecoderLayer(\n",
       "    (self_attn): LlamaSdpaAttention(\n",
       "      (q_proj): Linear(in_features=3072, out_features=3072, bias=False)\n",
       "      (k_proj): Linear(in_features=3072, out_features=1024, bias=False)\n",
       "      (v_proj): Linear(in_features=3072, out_features=1024, bias=False)\n",
       "      (o_proj): Linear(in_features=3072, out_features=3072, bias=False)\n",
       "      (rotary_emb): LlamaRotaryEmbedding()\n",
       "    )\n",
       "    (mlp): LlamaMLP(\n",
       "      (gate_proj): Linear(in_features=3072, out_features=8192, bias=False)\n",
       "      (up_proj): Linear(in_features=3072, out_features=8192, bias=False)\n",
       "      (down_proj): Linear(in_features=8192, out_features=3072, bias=False)\n",
       "      (act_fn): SiLU()\n",
       "    )\n",
       "    (input_layernorm): LlamaRMSNorm((3072,), eps=1e-05)\n",
       "    (post_attention_layernorm): LlamaRMSNorm((3072,), eps=1e-05)\n",
       "  )\n",
       ")"
      ]
     },
     "execution_count": 16,
     "metadata": {},
     "output_type": "execute_result"
    }
   ],
   "source": [
    "short_model.layers"
   ]
  },
  {
   "cell_type": "code",
   "execution_count": 17,
   "metadata": {
    "execution": {
     "iopub.execute_input": "2025-03-15T17:49:26.005196Z",
     "iopub.status.busy": "2025-03-15T17:49:26.004894Z",
     "iopub.status.idle": "2025-03-15T17:49:26.009171Z",
     "shell.execute_reply": "2025-03-15T17:49:26.008215Z",
     "shell.execute_reply.started": "2025-03-15T17:49:26.005176Z"
    },
    "trusted": true
   },
   "outputs": [],
   "source": [
    "# reassign layer_idx to attentions for caching\n",
    "for layer_idx, module in enumerate(short_model.layers):\n",
    "    module.self_attn.layer_idx = layer_idx"
   ]
  },
  {
   "cell_type": "code",
   "execution_count": 19,
   "metadata": {
    "execution": {
     "iopub.execute_input": "2025-03-15T17:50:08.606232Z",
     "iopub.status.busy": "2025-03-15T17:50:08.605907Z",
     "iopub.status.idle": "2025-03-15T17:50:08.610076Z",
     "shell.execute_reply": "2025-03-15T17:50:08.609161Z",
     "shell.execute_reply.started": "2025-03-15T17:50:08.606212Z"
    },
    "trusted": true
   },
   "outputs": [],
   "source": [
    "short_model.model.config.num_hidden_layers = len(short_model.layers)"
   ]
  },
  {
   "cell_type": "code",
   "execution_count": 20,
   "metadata": {
    "execution": {
     "iopub.execute_input": "2025-03-15T17:50:23.956591Z",
     "iopub.status.busy": "2025-03-15T17:50:23.956241Z",
     "iopub.status.idle": "2025-03-15T17:50:23.962250Z",
     "shell.execute_reply": "2025-03-15T17:50:23.961563Z",
     "shell.execute_reply.started": "2025-03-15T17:50:23.956565Z"
    },
    "trusted": true
   },
   "outputs": [
    {
     "data": {
      "text/plain": [
       "LlamaConfig {\n",
       "  \"_attn_implementation_autoset\": true,\n",
       "  \"_name_or_path\": \"meta-llama/Llama-3.2-3B\",\n",
       "  \"architectures\": [\n",
       "    \"LlamaForCausalLM\"\n",
       "  ],\n",
       "  \"attention_bias\": false,\n",
       "  \"attention_dropout\": 0.0,\n",
       "  \"bos_token_id\": 128000,\n",
       "  \"eos_token_id\": 128001,\n",
       "  \"head_dim\": 128,\n",
       "  \"hidden_act\": \"silu\",\n",
       "  \"hidden_size\": 3072,\n",
       "  \"initializer_range\": 0.02,\n",
       "  \"intermediate_size\": 8192,\n",
       "  \"max_position_embeddings\": 131072,\n",
       "  \"mlp_bias\": false,\n",
       "  \"model_type\": \"llama\",\n",
       "  \"num_attention_heads\": 24,\n",
       "  \"num_hidden_layers\": 16,\n",
       "  \"num_key_value_heads\": 8,\n",
       "  \"pretraining_tp\": 1,\n",
       "  \"rms_norm_eps\": 1e-05,\n",
       "  \"rope_scaling\": {\n",
       "    \"factor\": 32.0,\n",
       "    \"high_freq_factor\": 4.0,\n",
       "    \"low_freq_factor\": 1.0,\n",
       "    \"original_max_position_embeddings\": 8192,\n",
       "    \"rope_type\": \"llama3\"\n",
       "  },\n",
       "  \"rope_theta\": 500000.0,\n",
       "  \"tie_word_embeddings\": true,\n",
       "  \"torch_dtype\": \"float16\",\n",
       "  \"transformers_version\": \"4.47.0\",\n",
       "  \"use_cache\": true,\n",
       "  \"vocab_size\": 128256\n",
       "}"
      ]
     },
     "execution_count": 20,
     "metadata": {},
     "output_type": "execute_result"
    }
   ],
   "source": [
    "short_model.model.config\n"
   ]
  },
  {
   "cell_type": "code",
   "execution_count": 21,
   "metadata": {
    "execution": {
     "iopub.execute_input": "2025-03-15T17:50:42.603763Z",
     "iopub.status.busy": "2025-03-15T17:50:42.603399Z",
     "iopub.status.idle": "2025-03-15T17:50:42.609864Z",
     "shell.execute_reply": "2025-03-15T17:50:42.609152Z",
     "shell.execute_reply.started": "2025-03-15T17:50:42.603739Z"
    },
    "trusted": true
   },
   "outputs": [
    {
     "name": "stdout",
     "output_type": "stream",
     "text": [
      "Model size: 3.734 GB\n"
     ]
    }
   ],
   "source": [
    "param_size = 0\n",
    "for param in short_model.model.parameters():\n",
    "    param_size += param.nelement() * param.element_size()\n",
    "\n",
    "buffer_size = 0\n",
    "for buffer in short_model.model.buffers():\n",
    "    buffer_size += buffer.nelement() * buffer.element_size()\n",
    "\n",
    "# Total size in bytes to GB\n",
    "size_all_gb = (param_size + buffer_size) / 1024**3\n",
    "print('Model size: {:.3f} GB'.format(size_all_gb))"
   ]
  },
  {
   "cell_type": "code",
   "execution_count": 22,
   "metadata": {
    "execution": {
     "iopub.execute_input": "2025-03-15T17:51:26.929412Z",
     "iopub.status.busy": "2025-03-15T17:51:26.929118Z",
     "iopub.status.idle": "2025-03-15T17:51:37.287701Z",
     "shell.execute_reply": "2025-03-15T17:51:37.286094Z",
     "shell.execute_reply.started": "2025-03-15T17:51:26.929392Z"
    },
    "trusted": true
   },
   "outputs": [
    {
     "name": "stdout",
     "output_type": "stream",
     "text": [
      "Pruned model saved to ./short-llama-3.2-3B-final-12l\n"
     ]
    }
   ],
   "source": [
    "import os\n",
    "new_model_name = 'short-llama-3.2-3B-final-12l'\n",
    "output_dir = './'+new_model_name\n",
    "if not os.path.exists(output_dir):\n",
    "    os.makedirs(output_dir)\n",
    "\n",
    "short_model.model.save_pretrained(output_dir)\n",
    "short_model.tokenizer.save_pretrained(output_dir)\n",
    "#new_config.save_pretrained(output_dir)\n",
    "print(f\"Pruned model saved to {output_dir}\")"
   ]
  },
  {
   "cell_type": "code",
   "execution_count": 23,
   "metadata": {
    "execution": {
     "iopub.execute_input": "2025-03-15T17:51:42.850820Z",
     "iopub.status.busy": "2025-03-15T17:51:42.850453Z",
     "iopub.status.idle": "2025-03-15T17:52:28.303744Z",
     "shell.execute_reply": "2025-03-15T17:52:28.302883Z",
     "shell.execute_reply.started": "2025-03-15T17:51:42.850795Z"
    },
    "trusted": true
   },
   "outputs": [
    {
     "data": {
      "application/vnd.jupyter.widget-view+json": {
       "model_id": "468a255482c9482f9cd4519d8324b7ae",
       "version_major": 2,
       "version_minor": 0
      },
      "text/plain": [
       "  0%|          | 0/1 [00:00<?, ?it/s]"
      ]
     },
     "metadata": {},
     "output_type": "display_data"
    },
    {
     "data": {
      "application/vnd.jupyter.widget-view+json": {
       "model_id": "6bd79c689cfa4be99af2f586d0bb7384",
       "version_major": 2,
       "version_minor": 0
      },
      "text/plain": [
       "model.safetensors:   0%|          | 0.00/4.01G [00:00<?, ?B/s]"
      ]
     },
     "metadata": {},
     "output_type": "display_data"
    },
    {
     "data": {
      "application/vnd.jupyter.widget-view+json": {
       "model_id": "c625babd696c4baeaf7042d4e1381ce6",
       "version_major": 2,
       "version_minor": 0
      },
      "text/plain": [
       "README.md:   0%|          | 0.00/5.17k [00:00<?, ?B/s]"
      ]
     },
     "metadata": {},
     "output_type": "display_data"
    },
    {
     "data": {
      "application/vnd.jupyter.widget-view+json": {
       "model_id": "864d2bf39bc64d98bc12fb9fa20d1bee",
       "version_major": 2,
       "version_minor": 0
      },
      "text/plain": [
       "  0%|          | 0/1 [00:00<?, ?it/s]"
      ]
     },
     "metadata": {},
     "output_type": "display_data"
    },
    {
     "data": {
      "application/vnd.jupyter.widget-view+json": {
       "model_id": "68d0db432d2c49d382a88b1de37bccf2",
       "version_major": 2,
       "version_minor": 0
      },
      "text/plain": [
       "tokenizer.json:   0%|          | 0.00/17.2M [00:00<?, ?B/s]"
      ]
     },
     "metadata": {},
     "output_type": "display_data"
    },
    {
     "data": {
      "text/plain": [
       "CommitInfo(commit_url='https://huggingface.co/Shahrukh0/short-llama-3.2-3B-final-12l/commit/bf40cdfec50d880425148b33a92accb3ac3154c6', commit_message='Upload tokenizer', commit_description='', oid='bf40cdfec50d880425148b33a92accb3ac3154c6', pr_url=None, repo_url=RepoUrl('https://huggingface.co/Shahrukh0/short-llama-3.2-3B-final-12l', endpoint='https://huggingface.co', repo_type='model', repo_id='Shahrukh0/short-llama-3.2-3B-final-12l'), pr_revision=None, pr_num=None)"
      ]
     },
     "execution_count": 23,
     "metadata": {},
     "output_type": "execute_result"
    }
   ],
   "source": [
    "# Push the model to your Hugging Face repository\n",
    "\n",
    "short_model.model.push_to_hub(new_model_name, private=False)\n",
    "short_model.tokenizer.push_to_hub(new_model_name)"
   ]
  },
  {
   "cell_type": "code",
   "execution_count": 37,
   "metadata": {
    "execution": {
     "iopub.execute_input": "2025-03-15T18:00:53.690264Z",
     "iopub.status.busy": "2025-03-15T18:00:53.689948Z",
     "iopub.status.idle": "2025-03-15T18:00:53.694994Z",
     "shell.execute_reply": "2025-03-15T18:00:53.694181Z",
     "shell.execute_reply.started": "2025-03-15T18:00:53.690241Z"
    },
    "trusted": true
   },
   "outputs": [],
   "source": [
    "def evaluate_hf_model(model_name, tasks, num_fewshot=0):\n",
    "    \"\"\"\n",
    "    It calls the evaluator to evaluate a model available on Hugging Face.\n",
    "\n",
    "    Args:\n",
    "    - model_name: The model name in hugging Face.\n",
    "    - tasks: Tasks to evaluate.\n",
    "    - num_fewshot: Number of examples of few-shot learning\n",
    "\n",
    "    Returns:\n",
    "    - metrics.\n",
    "    \"\"\"\n",
    "    model_args = f\"pretrained={model_name},device=cuda\"\n",
    "    tasks = tasks\n",
    "\n",
    "    results = evaluator.simple_evaluate(\n",
    "      model=\"hf\",\n",
    "      model_args=model_args,\n",
    "      tasks=tasks,\n",
    "      num_fewshot=0,  # Number of few-shot smaples.\n",
    "      limit=None,  # Use all the samples in the Evaluate Dataset.\n",
    "      bootstrap_iters=10\n",
    "    )\n",
    "\n",
    "    metrics = results.get('results', {})\n",
    "    return metrics"
   ]
  },
  {
   "cell_type": "code",
   "execution_count": 38,
   "metadata": {
    "execution": {
     "iopub.execute_input": "2025-03-15T18:00:54.953291Z",
     "iopub.status.busy": "2025-03-15T18:00:54.952990Z",
     "iopub.status.idle": "2025-03-15T18:00:54.956948Z",
     "shell.execute_reply": "2025-03-15T18:00:54.956061Z",
     "shell.execute_reply.started": "2025-03-15T18:00:54.953267Z"
    },
    "trusted": true
   },
   "outputs": [],
   "source": [
    "# Select tasks to evaluate.\n",
    "tasks = ['lambada', 'boolq', 'arc_easy']"
   ]
  },
  {
   "cell_type": "code",
   "execution_count": 39,
   "metadata": {
    "execution": {
     "iopub.execute_input": "2025-03-15T18:00:56.096380Z",
     "iopub.status.busy": "2025-03-15T18:00:56.096084Z",
     "iopub.status.idle": "2025-03-15T18:24:53.502253Z",
     "shell.execute_reply": "2025-03-15T18:24:53.501193Z",
     "shell.execute_reply.started": "2025-03-15T18:00:56.096358Z"
    },
    "trusted": true
   },
   "outputs": [
    {
     "name": "stderr",
     "output_type": "stream",
     "text": [
      "100%|██████████| 2376/2376 [00:02<00:00, 1052.21it/s]\n",
      "100%|██████████| 3270/3270 [00:01<00:00, 1858.97it/s]\n",
      "100%|██████████| 5153/5153 [00:09<00:00, 544.65it/s]\n",
      "100%|██████████| 5153/5153 [00:09<00:00, 545.61it/s]\n",
      "Running loglikelihood requests: 100%|██████████| 26347/26347 [22:26<00:00, 19.57it/s]\n"
     ]
    },
    {
     "name": "stdout",
     "output_type": "stream",
     "text": [
      "bootstrapping for stddev: perplexity\n"
     ]
    },
    {
     "name": "stderr",
     "output_type": "stream",
     "text": [
      "100%|██████████| 1/1 [00:00<00:00, 56.02it/s]\n"
     ]
    },
    {
     "name": "stdout",
     "output_type": "stream",
     "text": [
      "bootstrapping for stddev: perplexity\n"
     ]
    },
    {
     "name": "stderr",
     "output_type": "stream",
     "text": [
      "100%|██████████| 1/1 [00:00<00:00, 78.69it/s]\n"
     ]
    },
    {
     "data": {
      "text/plain": [
       "{'arc_easy': {'alias': 'arc_easy',\n",
       "  'acc,none': 0.3514309764309764,\n",
       "  'acc_stderr,none': 0.00979639558281772,\n",
       "  'acc_norm,none': 0.3228114478114478,\n",
       "  'acc_norm_stderr,none': 0.009593950220366748},\n",
       " 'boolq': {'alias': 'boolq',\n",
       "  'acc,none': 0.6370030581039755,\n",
       "  'acc_stderr,none': 0.008410363788129725},\n",
       " 'lambada_openai': {'alias': 'lambada_openai',\n",
       "  'perplexity,none': 58910.541841304745,\n",
       "  'perplexity_stderr,none': 4454.787689666031,\n",
       "  'acc,none': 0.0613235008732777,\n",
       "  'acc_stderr,none': 0.003342593123256364},\n",
       " 'lambada_standard': {'alias': 'lambada_standard',\n",
       "  'perplexity,none': 165769.99389011564,\n",
       "  'perplexity_stderr,none': 11951.479284597803,\n",
       "  'acc,none': 0.05414321754317873,\n",
       "  'acc_stderr,none': 0.0031528027046825798}}"
      ]
     },
     "execution_count": 39,
     "metadata": {},
     "output_type": "execute_result"
    }
   ],
   "source": [
    "metrics_pruned_12l = evaluate_hf_model(\"Shahrukh0/short-llama-3.2-3B-final-12l\", tasks=tasks)\n",
    "metrics_pruned_12l"
   ]
  },
  {
   "cell_type": "code",
   "execution_count": 42,
   "metadata": {
    "execution": {
     "iopub.execute_input": "2025-03-15T18:35:26.893273Z",
     "iopub.status.busy": "2025-03-15T18:35:26.892760Z",
     "iopub.status.idle": "2025-03-15T19:52:55.625120Z",
     "shell.execute_reply": "2025-03-15T19:52:55.623972Z",
     "shell.execute_reply.started": "2025-03-15T18:35:26.893238Z"
    },
    "trusted": true
   },
   "outputs": [
    {
     "data": {
      "application/vnd.jupyter.widget-view+json": {
       "model_id": "134225b70da44f96b1526436a9fa3678",
       "version_major": 2,
       "version_minor": 0
      },
      "text/plain": [
       "Loading checkpoint shards:   0%|          | 0/2 [00:00<?, ?it/s]"
      ]
     },
     "metadata": {},
     "output_type": "display_data"
    },
    {
     "name": "stderr",
     "output_type": "stream",
     "text": [
      "100%|██████████| 2376/2376 [00:02<00:00, 1026.63it/s]\n",
      "100%|██████████| 3270/3270 [00:01<00:00, 1815.27it/s]\n",
      "100%|██████████| 5153/5153 [00:09<00:00, 534.92it/s]\n",
      "100%|██████████| 5153/5153 [00:09<00:00, 536.01it/s]\n",
      "Running loglikelihood requests: 100%|██████████| 26347/26347 [1:15:29<00:00,  5.82it/s]\n"
     ]
    },
    {
     "name": "stdout",
     "output_type": "stream",
     "text": [
      "bootstrapping for stddev: perplexity\n"
     ]
    },
    {
     "name": "stderr",
     "output_type": "stream",
     "text": [
      "100%|██████████| 1/1 [00:00<00:00, 92.09it/s]\n"
     ]
    },
    {
     "name": "stdout",
     "output_type": "stream",
     "text": [
      "bootstrapping for stddev: perplexity\n"
     ]
    },
    {
     "name": "stderr",
     "output_type": "stream",
     "text": [
      "100%|██████████| 1/1 [00:00<00:00, 84.64it/s]\n"
     ]
    },
    {
     "data": {
      "text/plain": [
       "{'arc_easy': {'alias': 'arc_easy',\n",
       "  'acc,none': 0.7436868686868687,\n",
       "  'acc_stderr,none': 0.008958775997918363,\n",
       "  'acc_norm,none': 0.7159090909090909,\n",
       "  'acc_norm_stderr,none': 0.009253921261885763},\n",
       " 'boolq': {'alias': 'boolq',\n",
       "  'acc,none': 0.7281345565749235,\n",
       "  'acc_stderr,none': 0.007781715792283647},\n",
       " 'lambada_openai': {'alias': 'lambada_openai',\n",
       "  'perplexity,none': 3.948728914635304,\n",
       "  'perplexity_stderr,none': 0.09051976860533245,\n",
       "  'acc,none': 0.7001746555404619,\n",
       "  'acc_stderr,none': 0.006383361452364427},\n",
       " 'lambada_standard': {'alias': 'lambada_standard',\n",
       "  'perplexity,none': 4.90659636080413,\n",
       "  'perplexity_stderr,none': 0.15558583628981276,\n",
       "  'acc,none': 0.6396274015136814,\n",
       "  'acc_stderr,none': 0.0066888504143385805}}"
      ]
     },
     "execution_count": 42,
     "metadata": {},
     "output_type": "execute_result"
    }
   ],
   "source": [
    "metrics_base= evaluate_hf_model(\"meta-llama/Llama-3.2-3B\", tasks=tasks)\n",
    "metrics_base"
   ]
  },
  {
   "cell_type": "code",
   "execution_count": 45,
   "metadata": {
    "execution": {
     "iopub.execute_input": "2025-03-15T20:09:30.205250Z",
     "iopub.status.busy": "2025-03-15T20:09:30.204879Z",
     "iopub.status.idle": "2025-03-15T20:42:32.922713Z",
     "shell.execute_reply": "2025-03-15T20:42:32.921534Z",
     "shell.execute_reply.started": "2025-03-15T20:09:30.205223Z"
    },
    "trusted": true
   },
   "outputs": [
    {
     "data": {
      "application/vnd.jupyter.widget-view+json": {
       "model_id": "c53a5cb8689143d48eee4a6aabde6714",
       "version_major": 2,
       "version_minor": 0
      },
      "text/plain": [
       "config.json:   0%|          | 0.00/884 [00:00<?, ?B/s]"
      ]
     },
     "metadata": {},
     "output_type": "display_data"
    },
    {
     "data": {
      "application/vnd.jupyter.widget-view+json": {
       "model_id": "e759d9f821ff46858c26dbf35f8a29e4",
       "version_major": 2,
       "version_minor": 0
      },
      "text/plain": [
       "tokenizer_config.json:   0%|          | 0.00/50.6k [00:00<?, ?B/s]"
      ]
     },
     "metadata": {},
     "output_type": "display_data"
    },
    {
     "data": {
      "application/vnd.jupyter.widget-view+json": {
       "model_id": "b287a845b63f46e08d154746fa704e19",
       "version_major": 2,
       "version_minor": 0
      },
      "text/plain": [
       "tokenizer.json:   0%|          | 0.00/17.2M [00:00<?, ?B/s]"
      ]
     },
     "metadata": {},
     "output_type": "display_data"
    },
    {
     "data": {
      "application/vnd.jupyter.widget-view+json": {
       "model_id": "f587ac9c059941b39594b6888a5b0165",
       "version_major": 2,
       "version_minor": 0
      },
      "text/plain": [
       "special_tokens_map.json:   0%|          | 0.00/335 [00:00<?, ?B/s]"
      ]
     },
     "metadata": {},
     "output_type": "display_data"
    },
    {
     "data": {
      "application/vnd.jupyter.widget-view+json": {
       "model_id": "ce9d4f65cfb04707921c036155e361a5",
       "version_major": 2,
       "version_minor": 0
      },
      "text/plain": [
       "model.safetensors.index.json:   0%|          | 0.00/17.9k [00:00<?, ?B/s]"
      ]
     },
     "metadata": {},
     "output_type": "display_data"
    },
    {
     "data": {
      "application/vnd.jupyter.widget-view+json": {
       "model_id": "c96c1b43d20742efb51d60f0446ae33a",
       "version_major": 2,
       "version_minor": 0
      },
      "text/plain": [
       "Downloading shards:   0%|          | 0/2 [00:00<?, ?it/s]"
      ]
     },
     "metadata": {},
     "output_type": "display_data"
    },
    {
     "data": {
      "application/vnd.jupyter.widget-view+json": {
       "model_id": "a822a57b790f4e3597ccfacca8a01967",
       "version_major": 2,
       "version_minor": 0
      },
      "text/plain": [
       "model-00001-of-00002.safetensors:   0%|          | 0.00/4.97G [00:00<?, ?B/s]"
      ]
     },
     "metadata": {},
     "output_type": "display_data"
    },
    {
     "data": {
      "application/vnd.jupyter.widget-view+json": {
       "model_id": "99b4098f8d64488c959bb40f2f0bd220",
       "version_major": 2,
       "version_minor": 0
      },
      "text/plain": [
       "model-00002-of-00002.safetensors:   0%|          | 0.00/654M [00:00<?, ?B/s]"
      ]
     },
     "metadata": {},
     "output_type": "display_data"
    },
    {
     "data": {
      "application/vnd.jupyter.widget-view+json": {
       "model_id": "686a0638637b4ad980deedbdf6396c47",
       "version_major": 2,
       "version_minor": 0
      },
      "text/plain": [
       "Loading checkpoint shards:   0%|          | 0/2 [00:00<?, ?it/s]"
      ]
     },
     "metadata": {},
     "output_type": "display_data"
    },
    {
     "data": {
      "application/vnd.jupyter.widget-view+json": {
       "model_id": "8c1b2dfc34b94e9db01a6186087045a4",
       "version_major": 2,
       "version_minor": 0
      },
      "text/plain": [
       "generation_config.json:   0%|          | 0.00/180 [00:00<?, ?B/s]"
      ]
     },
     "metadata": {},
     "output_type": "display_data"
    },
    {
     "name": "stderr",
     "output_type": "stream",
     "text": [
      "100%|██████████| 2376/2376 [00:02<00:00, 1058.25it/s]\n",
      "100%|██████████| 3270/3270 [00:01<00:00, 1855.86it/s]\n",
      "100%|██████████| 5153/5153 [00:09<00:00, 537.85it/s]\n",
      "100%|██████████| 5153/5153 [00:09<00:00, 543.31it/s]\n",
      "Running loglikelihood requests: 100%|██████████| 26347/26347 [31:08<00:00, 14.10it/s]\n"
     ]
    },
    {
     "name": "stdout",
     "output_type": "stream",
     "text": [
      "bootstrapping for stddev: perplexity\n"
     ]
    },
    {
     "name": "stderr",
     "output_type": "stream",
     "text": [
      "100%|██████████| 1/1 [00:00<00:00, 76.69it/s]\n"
     ]
    },
    {
     "name": "stdout",
     "output_type": "stream",
     "text": [
      "bootstrapping for stddev: perplexity\n"
     ]
    },
    {
     "name": "stderr",
     "output_type": "stream",
     "text": [
      "100%|██████████| 1/1 [00:00<00:00, 83.46it/s]\n"
     ]
    },
    {
     "data": {
      "text/plain": [
       "{'arc_easy': {'alias': 'arc_easy',\n",
       "  'acc,none': 0.6254208754208754,\n",
       "  'acc_stderr,none': 0.00993175882041061,\n",
       "  'acc_norm,none': 0.6043771043771043,\n",
       "  'acc_norm_stderr,none': 0.01003374139343099},\n",
       " 'boolq': {'alias': 'boolq',\n",
       "  'acc,none': 0.6168195718654435,\n",
       "  'acc_stderr,none': 0.008503021391450788},\n",
       " 'lambada_openai': {'alias': 'lambada_openai',\n",
       "  'perplexity,none': 75.38296030401096,\n",
       "  'perplexity_stderr,none': 3.2598758114985995,\n",
       "  'acc,none': 0.30506501067339414,\n",
       "  'acc_stderr,none': 0.00641475925077358},\n",
       " 'lambada_standard': {'alias': 'lambada_standard',\n",
       "  'perplexity,none': 145.13123256545822,\n",
       "  'perplexity_stderr,none': 8.207591497933823,\n",
       "  'acc,none': 0.2549970890743256,\n",
       "  'acc_stderr,none': 0.0060723761944656935}}"
      ]
     },
     "execution_count": 45,
     "metadata": {},
     "output_type": "execute_result"
    }
   ],
   "source": [
    "metrics_pruned_4l = evaluate_hf_model(\"Shahrukh0/short-llama-3.2-3B-final\", tasks=tasks)\n",
    "metrics_pruned_4l"
   ]
  },
  {
   "cell_type": "code",
   "execution_count": 56,
   "metadata": {
    "execution": {
     "iopub.execute_input": "2025-03-15T20:57:54.315420Z",
     "iopub.status.busy": "2025-03-15T20:57:54.315092Z",
     "iopub.status.idle": "2025-03-15T20:57:54.323303Z",
     "shell.execute_reply": "2025-03-15T20:57:54.322147Z",
     "shell.execute_reply.started": "2025-03-15T20:57:54.315396Z"
    },
    "trusted": true
   },
   "outputs": [],
   "source": [
    "def visualize_metrics(metrics_base, metrics_pruned_12l, metrics_pruned_4l):\n",
    "    \"\"\"\n",
    "    Visualizes accuracy and perplexity for base, pruned 12-layer, and pruned 4-layer models.\n",
    "\n",
    "    Parameters:\n",
    "    - metrics_base: Dictionary of metrics for the base model\n",
    "    - metrics_pruned_12l: Dictionary of metrics for the pruned 12-layer model\n",
    "    - metrics_pruned_4l: Dictionary of metrics for the pruned 4-layer model\n",
    "    \"\"\"\n",
    "    datasets = list(metrics_base.keys())\n",
    "\n",
    "    # Extract accuracy values\n",
    "    acc_base = [metrics_base[d].get('acc,none', None) for d in datasets]\n",
    "    acc_pruned_12l = [metrics_pruned_12l[d].get('acc,none', None) for d in datasets]\n",
    "    acc_pruned_4l = [metrics_pruned_4l[d].get('acc,none', None) for d in datasets]\n",
    "\n",
    "    # Extract perplexity values (ignoring None values)\n",
    "    datasets_ppl = [d for d in datasets if 'perplexity,none' in metrics_base[d]]\n",
    "    ppl_base = [metrics_base[d]['perplexity,none'] for d in datasets_ppl]\n",
    "    ppl_pruned_12l = [metrics_pruned_12l[d]['perplexity,none'] for d in datasets_ppl]\n",
    "    ppl_pruned_4l = [metrics_pruned_4l[d]['perplexity,none'] for d in datasets_ppl]\n",
    "\n",
    "    # Bar Width\n",
    "    bar_width = 0.25\n",
    "    x = np.arange(len(datasets))\n",
    "\n",
    "    # Plot Accuracy Comparison\n",
    "    plt.figure(figsize=(10, 6))\n",
    "    plt.bar(x - bar_width, acc_base, bar_width, label=\"Base Model\", color='blue', alpha=0.7)\n",
    "    plt.bar(x, acc_pruned_12l, bar_width, label=\"Pruned 12L\", color='red', alpha=0.7)\n",
    "    plt.bar(x + bar_width, acc_pruned_4l, bar_width, label=\"Pruned 4L\", color='green', alpha=0.7)\n",
    "    plt.xticks(x, datasets, rotation=20)\n",
    "    plt.ylabel(\"Accuracy\")\n",
    "    plt.title(\"Accuracy Comparison (Base vs. Pruned 12L vs. Pruned 4L)\")\n",
    "    plt.legend()\n",
    "    plt.tight_layout()\n",
    "    plt.show()"
   ]
  },
  {
   "cell_type": "code",
   "execution_count": 57,
   "metadata": {
    "execution": {
     "iopub.execute_input": "2025-03-15T20:57:55.373441Z",
     "iopub.status.busy": "2025-03-15T20:57:55.373144Z",
     "iopub.status.idle": "2025-03-15T20:57:55.597692Z",
     "shell.execute_reply": "2025-03-15T20:57:55.596835Z",
     "shell.execute_reply.started": "2025-03-15T20:57:55.373420Z"
    },
    "trusted": true
   },
   "outputs": [
    {
     "data": {
      "image/png": "[encoded data removed]",
      "text/plain": [
       "<Figure size 1000x600 with 1 Axes>"
      ]
     },
     "metadata": {},
     "output_type": "display_data"
    }
   ],
   "source": [
    "# Call visualization function\n",
    "visualize_metrics(metrics_base, metrics_pruned_12l, metrics_pruned_4l)"
   ]
  },
  {
   "cell_type": "code",
   "execution_count": null,
   "metadata": {
    "trusted": true
   },
   "outputs": [],
   "source": []
  }
 ],
 "metadata": {
  "kaggle": {
   "accelerator": "gpu",
   "dataSources": [],
   "dockerImageVersionId": 30919,
   "isGpuEnabled": true,
   "isInternetEnabled": true,
   "language": "python",
   "sourceType": "notebook"
  },
  "kernelspec": {
   "display_name": "Python 3",
   "language": "python",
   "name": "python3"
  },
  "language_info": {
   "codemirror_mode": {
    "name": "ipython",
    "version": 3
   },
   "file_extension": ".py",
   "mimetype": "text/x-python",
   "name": "python",
   "nbconvert_exporter": "python",
   "pygments_lexer": "ipython3",
   "version": "3.10.12"
  }
 },
 "nbformat": 4,
 "nbformat_minor": 4
}
